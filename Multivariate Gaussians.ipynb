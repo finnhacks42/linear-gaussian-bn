{
 "cells": [
  {
   "cell_type": "code",
   "execution_count": 34,
   "metadata": {},
   "outputs": [
    {
     "name": "stdout",
     "output_type": "stream",
     "text": [
      "The autoreload extension is already loaded. To reload it, use:\n",
      "  %reload_ext autoreload\n"
     ]
    }
   ],
   "source": [
    "import numpy as np\n",
    "import matplotlib.pyplot as plt\n",
    "import matplotlib\n",
    "import pandas as pd\n",
    "from sklearn.linear_model import LinearRegression\n",
    "import sympy as sym\n",
    "from sympy import init_printing\n",
    "init_printing(use_latex=True)\n",
    "%matplotlib inline\n",
    "\n",
    "%load_ext autoreload\n",
    "%autoreload 2"
   ]
  },
  {
   "cell_type": "code",
   "execution_count": 35,
   "metadata": {},
   "outputs": [],
   "source": [
    "import lgbayes"
   ]
  },
  {
   "cell_type": "code",
   "execution_count": 36,
   "metadata": {},
   "outputs": [],
   "source": [
    "from lgbayes.models import LinearGaussianBN"
   ]
  },
  {
   "cell_type": "code",
   "execution_count": 37,
   "metadata": {},
   "outputs": [],
   "source": [
    "def sample():\n",
    "    u = np.random.normal(0,s_u,size=n)\n",
    "    z = w_zu*u + np.random.normal(0,s_z,size=n)\n",
    "    x = w_xz*z+np.random.normal(0,s_x,size=n)\n",
    "    y = w_yx*x + w_yz*z + w_yu*u+ np.random.normal(0,s_y,size=n)\n",
    "    return {\"U\":u,\"Z\":z,\"X\":x,\"Y\":y}"
   ]
  },
  {
   "cell_type": "code",
   "execution_count": 38,
   "metadata": {},
   "outputs": [],
   "source": [
    "s_u = 1\n",
    "s_z = 0.3\n",
    "s_x = 1\n",
    "s_y = 0.5\n",
    "\n",
    "w_zu = 2\n",
    "w_xz = 0.5\n",
    "w_yx = 0.5\n",
    "w_yz = -1.0\n",
    "w_yu = 3.0\n",
    "\n",
    "\n",
    "beta_x = 0.5\n",
    "beta_z = -1\n",
    "sigma = 0.5\n",
    "n = 1000"
   ]
  },
  {
   "cell_type": "code",
   "execution_count": 39,
   "metadata": {},
   "outputs": [
    {
     "data": {
      "text/html": [
       "<div>\n",
       "<style scoped>\n",
       "    .dataframe tbody tr th:only-of-type {\n",
       "        vertical-align: middle;\n",
       "    }\n",
       "\n",
       "    .dataframe tbody tr th {\n",
       "        vertical-align: top;\n",
       "    }\n",
       "\n",
       "    .dataframe thead th {\n",
       "        text-align: right;\n",
       "    }\n",
       "</style>\n",
       "<table border=\"1\" class=\"dataframe\">\n",
       "  <thead>\n",
       "    <tr style=\"text-align: right;\">\n",
       "      <th></th>\n",
       "      <th>U</th>\n",
       "      <th>Z</th>\n",
       "      <th>X</th>\n",
       "      <th>Y</th>\n",
       "    </tr>\n",
       "  </thead>\n",
       "  <tbody>\n",
       "    <tr>\n",
       "      <th>U</th>\n",
       "      <td>1.045510</td>\n",
       "      <td>2.078233</td>\n",
       "      <td>1.109808</td>\n",
       "      <td>1.626206</td>\n",
       "    </tr>\n",
       "    <tr>\n",
       "      <th>Z</th>\n",
       "      <td>2.078233</td>\n",
       "      <td>4.216427</td>\n",
       "      <td>2.250842</td>\n",
       "      <td>3.173679</td>\n",
       "    </tr>\n",
       "    <tr>\n",
       "      <th>X</th>\n",
       "      <td>1.109808</td>\n",
       "      <td>2.250842</td>\n",
       "      <td>2.197477</td>\n",
       "      <td>2.203349</td>\n",
       "    </tr>\n",
       "    <tr>\n",
       "      <th>Y</th>\n",
       "      <td>1.626206</td>\n",
       "      <td>3.173679</td>\n",
       "      <td>2.203349</td>\n",
       "      <td>3.066799</td>\n",
       "    </tr>\n",
       "  </tbody>\n",
       "</table>\n",
       "</div>"
      ],
      "text/plain": [
       "          U         Z         X         Y\n",
       "U  1.045510  2.078233  1.109808  1.626206\n",
       "Z  2.078233  4.216427  2.250842  3.173679\n",
       "X  1.109808  2.250842  2.197477  2.203349\n",
       "Y  1.626206  3.173679  2.203349  3.066799"
      ]
     },
     "execution_count": 39,
     "metadata": {},
     "output_type": "execute_result"
    }
   ],
   "source": [
    "data_dict = sample()\n",
    "df1 = pd.DataFrame(data_dict,columns=[\"U\",\"Z\",\"X\",\"Y\"])\n",
    "df1.cov()"
   ]
  },
  {
   "cell_type": "code",
   "execution_count": 40,
   "metadata": {},
   "outputs": [
    {
     "name": "stdout",
     "output_type": "stream",
     "text": [
      "X ~ N(w_X0 ; e_X)\n",
      "Y ~ N(w_Y0 + w_YX*X ; e_Y)\n",
      "\n"
     ]
    },
    {
     "data": {
      "image/png": "[encoded data removed]",
      "text/latex": [
       "$\\displaystyle w_{Y0} + w_{YX} x$"
      ],
      "text/plain": [
       "w_Y0 + w_YX⋅x"
      ]
     },
     "execution_count": 40,
     "metadata": {},
     "output_type": "execute_result"
    }
   ],
   "source": [
    "model = LinearGaussianBN()\n",
    "model.add_var(\"X\",[])\n",
    "model.add_var(\"Y\",[\"X\"])\n",
    "print(model)\n",
    "model.cov\n",
    "a = model.observe([\"X\"],[\"x\"])\n",
    "a.cov\n",
    "a.mu[0].simplify()"
   ]
  },
  {
   "cell_type": "code",
   "execution_count": 41,
   "metadata": {},
   "outputs": [
    {
     "data": {
      "image/png": "[encoded data removed]",
      "text/latex": [
       "$\\displaystyle \\left[\\begin{matrix}w_{X0}\\\\w_{X0} w_{YX} + w_{Y0}\\end{matrix}\\right]$"
      ],
      "text/plain": [
       "⎡      w_X0      ⎤\n",
       "⎢                ⎥\n",
       "⎣w_X0⋅w_YX + w_Y0⎦"
      ]
     },
     "execution_count": 41,
     "metadata": {},
     "output_type": "execute_result"
    }
   ],
   "source": [
    "model.mu"
   ]
  },
  {
   "cell_type": "code",
   "execution_count": 42,
   "metadata": {},
   "outputs": [
    {
     "data": {
      "image/png": "[encoded data removed]",
      "text/latex": [
       "$\\displaystyle \\left[\\begin{matrix}e_{X} & e_{X} w_{YX}\\\\e_{X} w_{YX} & e_{X} w_{YX}^{2} + e_{Y}\\end{matrix}\\right]$"
      ],
      "text/plain": [
       "⎡  e_X        e_X⋅w_YX    ⎤\n",
       "⎢                         ⎥\n",
       "⎢                  2      ⎥\n",
       "⎣e_X⋅w_YX  e_X⋅w_YX  + e_Y⎦"
      ]
     },
     "execution_count": 42,
     "metadata": {},
     "output_type": "execute_result"
    }
   ],
   "source": [
    "model.cov"
   ]
  },
  {
   "cell_type": "code",
   "execution_count": 43,
   "metadata": {},
   "outputs": [
    {
     "data": {
      "image/png": "[encoded data removed]",
      "text/latex": [
       "$\\displaystyle \\left[\\begin{matrix}\\frac{w_{YX}^{2}}{e_{Y}} + \\frac{1}{e_{X}} & - \\frac{w_{YX}}{e_{Y}}\\\\- \\frac{w_{YX}}{e_{Y}} & \\frac{1}{e_{Y}}\\end{matrix}\\right]$"
      ],
      "text/plain": [
       "⎡    2              ⎤\n",
       "⎢w_YX     1   -w_YX ⎥\n",
       "⎢───── + ───  ──────⎥\n",
       "⎢ e_Y    e_X   e_Y  ⎥\n",
       "⎢                   ⎥\n",
       "⎢  -w_YX        1   ⎥\n",
       "⎢  ──────      ───  ⎥\n",
       "⎣   e_Y        e_Y  ⎦"
      ]
     },
     "execution_count": 43,
     "metadata": {},
     "output_type": "execute_result"
    }
   ],
   "source": [
    "model.information_matrix"
   ]
  },
  {
   "cell_type": "code",
   "execution_count": 29,
   "metadata": {},
   "outputs": [
    {
     "name": "stdout",
     "output_type": "stream",
     "text": [
      "U ~ N(0 ; 1)\n",
      "Z ~ N(2*U ; 0.09)\n",
      "X ~ N(0.5*Z ; 1)\n",
      "Y ~ N(3*U + -1*Z + 0.5*X ; 0.25)\n",
      "\n"
     ]
    },
    {
     "data": {
      "text/html": [
       "<div>\n",
       "<style scoped>\n",
       "    .dataframe tbody tr th:only-of-type {\n",
       "        vertical-align: middle;\n",
       "    }\n",
       "\n",
       "    .dataframe tbody tr th {\n",
       "        vertical-align: top;\n",
       "    }\n",
       "\n",
       "    .dataframe thead th {\n",
       "        text-align: right;\n",
       "    }\n",
       "</style>\n",
       "<table border=\"1\" class=\"dataframe\">\n",
       "  <thead>\n",
       "    <tr style=\"text-align: right;\">\n",
       "      <th></th>\n",
       "      <th>U</th>\n",
       "      <th>Z</th>\n",
       "      <th>X</th>\n",
       "      <th>Y</th>\n",
       "    </tr>\n",
       "  </thead>\n",
       "  <tbody>\n",
       "    <tr>\n",
       "      <th>U</th>\n",
       "      <td>1.071703</td>\n",
       "      <td>2.133539</td>\n",
       "      <td>1.085406</td>\n",
       "      <td>1.614399</td>\n",
       "    </tr>\n",
       "    <tr>\n",
       "      <th>Z</th>\n",
       "      <td>2.133539</td>\n",
       "      <td>4.340082</td>\n",
       "      <td>2.204571</td>\n",
       "      <td>3.141919</td>\n",
       "    </tr>\n",
       "    <tr>\n",
       "      <th>X</th>\n",
       "      <td>1.085406</td>\n",
       "      <td>2.204571</td>\n",
       "      <td>2.125659</td>\n",
       "      <td>2.121871</td>\n",
       "    </tr>\n",
       "    <tr>\n",
       "      <th>Y</th>\n",
       "      <td>1.614399</td>\n",
       "      <td>3.141919</td>\n",
       "      <td>2.121871</td>\n",
       "      <td>2.989927</td>\n",
       "    </tr>\n",
       "  </tbody>\n",
       "</table>\n",
       "</div>"
      ],
      "text/plain": [
       "          U         Z         X         Y\n",
       "U  1.071703  2.133539  1.085406  1.614399\n",
       "Z  2.133539  4.340082  2.204571  3.141919\n",
       "X  1.085406  2.204571  2.125659  2.121871\n",
       "Y  1.614399  3.141919  2.121871  2.989927"
      ]
     },
     "execution_count": 29,
     "metadata": {},
     "output_type": "execute_result"
    }
   ],
   "source": [
    "model = LinearGaussianBN()\n",
    "model.add_var(\"U\",None,[0],s_u**2)\n",
    "model.add_var(\"Z\",[\"U\"],[0,w_zu],s_z**2)\n",
    "model.add_var(\"X\",[\"Z\"],[0,w_xz],s_x**2)\n",
    "model.add_var(\"Y\",[\"U\",\"Z\",\"X\"],[0,w_yu,w_yz,w_yx],s_y**2)\n",
    "\n",
    "print (model)\n",
    "data_dict = dict(zip(model.variables,model.sample(n).T))\n",
    "df = pd.DataFrame(data_dict,columns=model.variables)\n",
    "df.cov()"
   ]
  },
  {
   "cell_type": "code",
   "execution_count": null,
   "metadata": {},
   "outputs": [],
   "source": []
  }
 ],
 "metadata": {
  "kernelspec": {
   "display_name": "Python 3",
   "language": "python",
   "name": "python3"
  },
  "language_info": {
   "codemirror_mode": {
    "name": "ipython",
    "version": 3
   },
   "file_extension": ".py",
   "mimetype": "text/x-python",
   "name": "python",
   "nbconvert_exporter": "python",
   "pygments_lexer": "ipython3",
   "version": "3.7.9"
  }
 },
 "nbformat": 4,
 "nbformat_minor": 1
}
